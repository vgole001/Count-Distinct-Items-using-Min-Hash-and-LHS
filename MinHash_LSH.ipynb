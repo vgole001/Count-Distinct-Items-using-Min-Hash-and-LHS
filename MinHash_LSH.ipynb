{
 "cells": [
  {
   "cell_type": "code",
   "execution_count": 1,
   "metadata": {},
   "outputs": [],
   "source": [
    "#Files for Min Hash Similarity Part"
   ]
  },
  {
   "cell_type": "code",
   "execution_count": 1,
   "metadata": {},
   "outputs": [],
   "source": [
    "#Helper Functions\n",
    "import random\n",
    "\n",
    "# Calculate the Jaccard similarity of 2 sets\n",
    "def jaccardSim(s1,s2):\n",
    "    s1 = set(s1)\n",
    "    s2 = set(s2)\n",
    "    return (len(s1.intersection(s2)) / len(s1.union(s2)))\n",
    "\n",
    "\n",
    "# Return a random hash function from a universal family\n",
    "# p = prime number > m\n",
    "def make_random_hash_function(p=2**33-355, m=2**32-1):\n",
    "    a = random.randint(1,p-1)\n",
    "    b = random.randint(0, p-1)\n",
    "    return lambda x: ((a * x + b) % p) % m"
   ]
  },
  {
   "cell_type": "code",
   "execution_count": 2,
   "metadata": {},
   "outputs": [],
   "source": [
    "# Read input file and preprocess data\n",
    "import re\n",
    "import string\n",
    "from collections import defaultdict\n",
    "\n",
    "class Parser():\n",
    "    def parse_input_file(self, filename):\n",
    "        data_list = []\n",
    "        with open(filename) as ff:\n",
    "            contents = ff.readlines()\n",
    "            for line in contents:\n",
    "                doc_id_word = ()\n",
    "                # read all of the words (they are all in one line) and split them by white space\n",
    "                words = line.split(\" \")\n",
    "                # retrieve the article ID which is the first word on the line\n",
    "                docID = words[0]\n",
    "                del(words[0])\n",
    "\n",
    "                word_list = []\n",
    "                for word in words:\n",
    "                    # make words lowercase\n",
    "                    word = word.lower()\n",
    "                    # remove any tabs, new lines, e.t.c\n",
    "                    word = re.sub(r'[^\\w]','',word)\n",
    "                    word_list.append(word)\n",
    "                word_list = ''.join(word_list)\n",
    "                doc_id_word = (docID,word_list)\n",
    "                data_list.append(doc_id_word)\n",
    "            return data_list"
   ]
  },
  {
   "cell_type": "code",
   "execution_count": 3,
   "metadata": {},
   "outputs": [],
   "source": [
    "# Create proper data structures for our data\n",
    "import numpy as np\n",
    "import binascii\n",
    "from time import time\n",
    "\n",
    "hash_num = 10\n",
    "shingles_len = 7\n",
    "\n",
    "class ProcessData():\n",
    "    def map_doc_id(self, docIds):\n",
    "        docIdMap = {}\n",
    "        for i in range(0, len(docIds)):\n",
    "            docIdMap[docIds[i]] = i\n",
    "        return docIdMap\n",
    "\n",
    "    def invert_shingles(self,tuples,ids):\n",
    "        # Compute the hash value for each of our word in document\n",
    "        shingles_list= list()\n",
    "        for d in data:\n",
    "            hash_shingles = set()\n",
    "            for i in range(0, len(d[1]) - shingles_len + 1):\n",
    "                hash_value = binascii.crc32(d[1][i: i + shingles_len].encode('utf-8')) & 0xffffffff\n",
    "                hash_shingles.add(hash_value)\n",
    "            shingles_list.append((d[0],hash_shingles))\n",
    "    \n",
    "        # Invert shingles so shingles become rows and docId's become columns\n",
    "        for row in shingles_list:\n",
    "            ids.append(row[0])\n",
    "            for s in row[1]:\n",
    "                tuples.append((s,row[0]))\n",
    "        return tuples,ids\n",
    "    \n",
    "    def add_hash_functions(self):\n",
    "        hash_funcs = []\n",
    "        # Make hash functions\n",
    "        for i in range(0, hash_num):\n",
    "            hash_funcs.append(make_random_hash_function())\n",
    "        return hash_funcs\n",
    "    \n",
    "    def calc_signature_matrix(self, num_docs):\n",
    "        tuples = []\n",
    "        ids = []\n",
    "        hash_funcs = []\n",
    "        tuples,ids = self.invert_shingles(tuples,ids)\n",
    "        hash_funcs = self.add_hash_functions()\n",
    "         # Initialize signature matrix values to infinity\n",
    "        sigmatrix = np.full([hash_num, num_docs], np.inf)\n",
    "        #print('sigmatrix shape: ',sigmatrix.shape)\n",
    "        doc_id_col_map = self.map_doc_id(ids)\n",
    "\n",
    "        # Update signature matrix values\n",
    "        row = 0\n",
    "        for item, id in tuples:\n",
    "            j = doc_id_col_map[id]\n",
    "            for n in range(0, len(hash_funcs)):\n",
    "                sigmatrix[n][j]= min(hash_funcs[n](item), sigmatrix[n][j])\n",
    "        return sigmatrix, doc_id_col_map\n",
    "\n",
    "# Min Hash Similarity Class\n",
    "class MinHashSimilarity():  \n",
    "    def CalculateSimilarity(self, num_docs):\n",
    "        preprocess = ProcessData()\n",
    "    \n",
    "        sigmatrix,doc_id_col_map = preprocess.calc_signature_matrix(num_docs)\n",
    "        \n",
    "        # Compute similarity for signature matrix based on jaccard similarity\n",
    "        sim_sets = []\n",
    "        sigmatrix = np.array(sigmatrix)\n",
    "        for i in range(0, sigmatrix.shape[1]-1):\n",
    "            s1 = sigmatrix[:,i]\n",
    "            for j in range(i + 1, sigmatrix.shape[1]):\n",
    "                s2 = sigmatrix[:,j]\n",
    "                sim = jaccardSim(s1,s2)\n",
    "                if sim > 0.8:\n",
    "                    d1Str = list(doc_id_col_map.keys())[i]\n",
    "                    d2Str = list(doc_id_col_map.keys())[j]\n",
    "                    sim_sets.append((d1Str,d2Str,round(sim,2)))\n",
    "        return sim_sets\n"
   ]
  },
  {
   "cell_type": "code",
   "execution_count": 4,
   "metadata": {},
   "outputs": [
    {
     "name": "stdout",
     "output_type": "stream",
     "text": [
      "Execution time for 10000 articles: 18.694859 minutes\n"
     ]
    }
   ],
   "source": [
    "# Run the Min Hash algorithm on different size files, count their response timea and write output to a file\n",
    "filename = \"C:/Users/iTTaste/articles_100.txt\"\n",
    "parser = Parser()\n",
    "data = parser.parse_input_file(filename)\n",
    "\n",
    "min_hash_similarity = MinHashSimilarity()\n",
    "start_time = time()\n",
    "similarities = min_hash_similarity.CalculateSimilarity(len(data))\n",
    "end_time = time()\n",
    "est_time = end_time - start_time\n",
    "if est_time > 60.0:\n",
    "    print('Execution time for %d articles: %f minutes'%(len(data),est_time/60.0))\n",
    "else:\n",
    "    print('Execution time for %d articles: %f seconds'%(len(data),est_time))\n",
    "    \n",
    "# Write similar pair documents to a file\n",
    "with open('MinHashSimilarDocuments.txt', 'w+') as fp:\n",
    "    fp.write('Similarity between documents using the MinHash Method: \\n')\n",
    "    for sims in similarities:\n",
    "        fp.write('\\t'.join('%s' % s for s in sims))\n",
    "        fp.write('')\n",
    "        fp.write('\\n')\n",
    "fp.close()   "
   ]
  },
  {
   "cell_type": "code",
   "execution_count": 20,
   "metadata": {},
   "outputs": [],
   "source": []
  },
  {
   "cell_type": "code",
   "execution_count": null,
   "metadata": {},
   "outputs": [],
   "source": []
  },
  {
   "cell_type": "code",
   "execution_count": null,
   "metadata": {},
   "outputs": [],
   "source": []
  },
  {
   "cell_type": "code",
   "execution_count": null,
   "metadata": {},
   "outputs": [],
   "source": []
  },
  {
   "cell_type": "code",
   "execution_count": null,
   "metadata": {},
   "outputs": [],
   "source": []
  },
  {
   "cell_type": "code",
   "execution_count": null,
   "metadata": {},
   "outputs": [],
   "source": [
    "# Files for Localiry Sensitive Hashing Similarity Part"
   ]
  },
  {
   "cell_type": "code",
   "execution_count": 5,
   "metadata": {},
   "outputs": [],
   "source": [
    "# LSH algorithm (in order to run this we should run MinHash first to create signature matrix\n",
    "\n",
    "import numpy as np\n",
    "import binascii\n",
    "from time import time\n",
    "\n",
    "hash_num = 10\n",
    "shingles_len = 7\n",
    "\n",
    "class LSHSimilarity():\n",
    "    def __init__(self, num_docs):\n",
    "        self.num_docs = num_docs\n",
    "    \n",
    "    def hash_vector(self, hash_fns, vec, m=2**32-1):\n",
    "        sum = 0\n",
    "        for i in range(len(vec)):\n",
    "            h = hash_fns[i]\n",
    "            sum += h(vec[i])\n",
    "        return sum % m\n",
    "\n",
    "    def CalculateSimilarity(self, sigmatrix):\n",
    "        preprocess = ProcessData()\n",
    "        \n",
    "        hash_funcs = preprocess.add_hash_functions()\n",
    "        sigmatrix, doc_id_col_map = preprocess.calc_signature_matrix(self.num_docs)\n",
    "        \n",
    "        \n",
    "        # Compute similarity for signature matrix based on jaccard similarity\n",
    "        sim_sets = []\n",
    "        sigmatrix = np.array(sigmatrix)\n",
    "\n",
    "\n",
    "        # Initialize the number of bands and threshold\n",
    "        bands_num = 2\n",
    "\n",
    "        # Calculate number of rows needed for each band\n",
    "        rows = int(hash_num / bands_num)\n",
    "\n",
    "        s = pow((1/bands_num),1/rows)\n",
    "        #print('rows threshold: ',rows,s)\n",
    "        \n",
    "        buckets = []\n",
    "        bucket_dic = defaultdict(list)\n",
    "\n",
    "        pairs = set()\n",
    "\n",
    "        for r in range(bands_num):\n",
    "            start_row = r * rows\n",
    "            end_row = start_row + rows\n",
    "\n",
    "            for doc in range(self.num_docs):\n",
    "                hash_vec = self.hash_vector(hash_funcs,sigmatrix[start_row:end_row,doc])\n",
    "                bucket_dic[hash_vec].append(doc)\n",
    "                #print('bucket',bucket_dic.items())\n",
    "\n",
    "        for item, value in bucket_dic.items():\n",
    "            if len(value) > 1:\n",
    "                pairs.add(tuple(value))\n",
    "\n",
    "        sim_docs = []\n",
    "        for s in pairs:\n",
    "            d1 = list(doc_id_col_map.keys())[s[0]]\n",
    "            d2 = list(doc_id_col_map.keys())[s[1]]\n",
    "            sim_docs.append((d1,d2))\n",
    "\n",
    "        # Get candidate pairs that hash to the same bucket at least once\n",
    "        return sim_docs\n"
   ]
  },
  {
   "cell_type": "code",
   "execution_count": null,
   "metadata": {
    "scrolled": true
   },
   "outputs": [],
   "source": [
    "sigmatrix = []\n",
    "start_time = time()\n",
    "lsh_similarity = LSHSimilarity(len(data))\n",
    "similarities = lsh_similarity.CalculateSimilarity(sigmatrix)\n",
    "end_time = time()\n",
    "est_time = end_time - start_time\n",
    "if est_time > 60.0:\n",
    "    print('Execution time for %d articles: %f minutes'%(len(data),est_time/60.0))\n",
    "else:\n",
    "    print('Execution time for %d articles: %f seconds'%(len(data),est_time))"
   ]
  },
  {
   "cell_type": "code",
   "execution_count": 22,
   "metadata": {},
   "outputs": [],
   "source": [
    "# Write similar pair documents to a file\n",
    "with open('LSHSimilarDocuments.txt', 'w+') as fp:\n",
    "    fp.write('Similarity between documents using the LSH Method: \\n')\n",
    "    for sims in similarities:\n",
    "        fp.write('\\t'.join('%s' % s for s in sims))\n",
    "        fp.write('')\n",
    "        fp.write('\\n')\n",
    "fp.close()"
   ]
  },
  {
   "cell_type": "code",
   "execution_count": null,
   "metadata": {},
   "outputs": [],
   "source": []
  },
  {
   "cell_type": "code",
   "execution_count": 34,
   "metadata": {},
   "outputs": [
    {
     "data": {
      "image/png": "[encoded data removed]",
      "text/plain": [
       "<Figure size 432x288 with 1 Axes>"
      ]
     },
     "metadata": {
      "needs_background": "light"
     },
     "output_type": "display_data"
    }
   ],
   "source": [
    "import matplotlib.pyplot as plt\n",
    "import math\n",
    "import numpy as np\n",
    "\n",
    "b = 2\n",
    "r = 5\n",
    "prob = []\n",
    "sim = [x for x in np.arange(0.2, 1.0, 0.01)]\n",
    "for s in sim:\n",
    "    prob.append((1-pow((1-pow(s,r)),b)))\n",
    "\n",
    "\n",
    "# axis values \n",
    "x = sim\n",
    "y = prob\n",
    "  \n",
    "# plotting the points  \n",
    "plt.plot(x, y) \n",
    "  \n",
    "# naming the x axis \n",
    "plt.xlabel('similarity') \n",
    "# naming the y axis \n",
    "plt.ylabel('probability') \n",
    "  \n",
    "# function to show the plot \n",
    "plt.show() \n",
    "\n"
   ]
  },
  {
   "cell_type": "code",
   "execution_count": null,
   "metadata": {},
   "outputs": [],
   "source": []
  },
  {
   "cell_type": "code",
   "execution_count": null,
   "metadata": {},
   "outputs": [],
   "source": []
  },
  {
   "cell_type": "code",
   "execution_count": null,
   "metadata": {},
   "outputs": [],
   "source": []
  },
  {
   "cell_type": "code",
   "execution_count": null,
   "metadata": {},
   "outputs": [],
   "source": []
  }
 ],
 "metadata": {
  "kernelspec": {
   "display_name": "Python 3",
   "language": "python",
   "name": "python3"
  },
  "language_info": {
   "codemirror_mode": {
    "name": "ipython",
    "version": 3
   },
   "file_extension": ".py",
   "mimetype": "text/x-python",
   "name": "python",
   "nbconvert_exporter": "python",
   "pygments_lexer": "ipython3",
   "version": "3.7.3"
  }
 },
 "nbformat": 4,
 "nbformat_minor": 2
}
